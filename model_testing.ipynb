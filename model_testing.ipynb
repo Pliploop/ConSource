{
 "cells": [
  {
   "cell_type": "code",
   "execution_count": 5,
   "metadata": {},
   "outputs": [
    {
     "name": "stdout",
     "output_type": "stream",
     "text": [
      "Encoder frozen\n"
     ]
    }
   ],
   "source": [
    "from consource.models.instr_encoder.samplecnn import SampleCNN\n",
    "from consource.models.consource import ConSource\n",
    "\n",
    "encoder = SampleCNN()\n",
    "consource = ConSource(encoder, embedding_max_length=20)"
   ]
  },
  {
   "cell_type": "code",
   "execution_count": 2,
   "metadata": {},
   "outputs": [],
   "source": [
    "import torch\n",
    "\n",
    "# create some dummy test data : mono audio of 22050 Hz and 6 seconds\n",
    "\n",
    "# 6 seconds of audio at 22050 Hz\n",
    "mix = torch.randn(2,1, 2**16)\n",
    "target = torch.randn(2,1, 6*22050)\n",
    "\n",
    "# forward pass\n",
    "loss = consource.training_step({\n",
    "    \"mix\": mix,\n",
    "    \"target\": target,\n",
    "    \"aaccomp\": mix,\n",
    "})\n"
   ]
  },
  {
   "cell_type": "code",
   "execution_count": 4,
   "metadata": {},
   "outputs": [
    {
     "data": {
      "text/plain": [
       "torch.Size([2, 1, 65536])"
      ]
     },
     "execution_count": 4,
     "metadata": {},
     "output_type": "execute_result"
    }
   ],
   "source": [
    "loss.shape"
   ]
  },
  {
   "cell_type": "code",
   "execution_count": null,
   "metadata": {},
   "outputs": [],
   "source": []
  }
 ],
 "metadata": {
  "kernelspec": {
   "display_name": "consource",
   "language": "python",
   "name": "python3"
  },
  "language_info": {
   "codemirror_mode": {
    "name": "ipython",
    "version": 3
   },
   "file_extension": ".py",
   "mimetype": "text/x-python",
   "name": "python",
   "nbconvert_exporter": "python",
   "pygments_lexer": "ipython3",
   "version": "3.12.2"
  }
 },
 "nbformat": 4,
 "nbformat_minor": 2
}
